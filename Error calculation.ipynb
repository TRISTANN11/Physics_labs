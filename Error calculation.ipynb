{
 "cells": [
  {
   "cell_type": "code",
   "execution_count": 7,
   "metadata": {},
   "outputs": [],
   "source": [
    "import numpy as np\n",
    "\n",
    "def rule1(c, erA):\n",
    "    ret = abs(c) * erA\n",
    "    return ret\n",
    "\n",
    "def rule2(c, m, A, erA):\n",
    "    ret = abs(c*m*A**(m-1)) * erA\n",
    "    return ret\n",
    "\n",
    "def rule3(erA, erB):\n",
    "    ret = np.sqrt(erA**2 + erB**2)\n",
    "    return ret\n",
    "    \n",
    "def rule4(m, n, A, B, erA, erB):\n",
    "    ret = np.sqrt((m*(erA/A))**2 + (n * (erB/B)**2))\n",
    "    return ret"
   ]
  },
  {
   "cell_type": "code",
   "execution_count": 15,
   "metadata": {},
   "outputs": [
    {
     "name": "stdout",
     "output_type": "stream",
     "text": [
      "Error of force: 0.7086609124000001\n",
      "Error of force2: 5.453920313686437\n"
     ]
    }
   ],
   "source": [
    "print(\"Error of force:\", 841.82 * rule1(9.8 * .859, .0001))\n",
    "print(\"Error of force2:\", 326.0765 * rule4(1, 1, 85.5, 173.21, .1, 2.89))"
   ]
  },
  {
   "cell_type": "code",
   "execution_count": 17,
   "metadata": {},
   "outputs": [
    {
     "name": "stdout",
     "output_type": "stream",
     "text": [
      "1.1166666666666667\n",
      "0.17950549357115014\n"
     ]
    }
   ],
   "source": [
    "#For the following dataset, calculate the mean (average) and the error in the mean using the numpy functions\n",
    "#of np.std() for standard deviation and np.average(). x = 1.1, 1.3, 1.4, 0.9, 0.95, 1.05\n",
    "x = [1.1, 1.3, 1.4, 0.9, 0.95, 1.05]\n",
    "print(np.average(x))\n",
    "print(np.std(x))"
   ]
  },
  {
   "cell_type": "code",
   "execution_count": null,
   "metadata": {},
   "outputs": [],
   "source": []
  }
 ],
 "metadata": {
  "kernelspec": {
   "display_name": "Python 3",
   "language": "python",
   "name": "python3"
  },
  "language_info": {
   "codemirror_mode": {
    "name": "ipython",
    "version": 3
   },
   "file_extension": ".py",
   "mimetype": "text/x-python",
   "name": "python",
   "nbconvert_exporter": "python",
   "pygments_lexer": "ipython3",
   "version": "3.8.3"
  }
 },
 "nbformat": 4,
 "nbformat_minor": 4
}
