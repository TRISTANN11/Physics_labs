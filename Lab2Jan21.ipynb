{
 "cells": [
  {
   "cell_type": "code",
   "execution_count": 1,
   "metadata": {},
   "outputs": [],
   "source": [
    "import numpy as np\n",
    "\n",
    "#Error rules \n",
    "\n",
    "def rule1(c, erA):\n",
    "    ret = abs(c) * erA\n",
    "    return ret\n",
    "\n",
    "def rule2(c, m, A, erA):\n",
    "    ret = abs(c*m*A**(m-1)) * erA\n",
    "    return ret\n",
    "\n",
    "def rule3(erA, erB):\n",
    "    ret = np.sqrt(erA**2 + erB**2)\n",
    "    return ret\n",
    "    \n",
    "def rule4(m, n, A, B, erA, erB):\n",
    "    ret = np.sqrt((m*(erA/A))**2 + (n * (erB/B)**2))\n",
    "    return ret"
   ]
  },
  {
   "cell_type": "code",
   "execution_count": 2,
   "metadata": {},
   "outputs": [],
   "source": [
    "#Data tab for Aluminium rod \n",
    "#Note first number is initial, second is final \n",
    "\n",
    "L_a = 70.6 #cm Err = 0.1 cm\n",
    "Ldial_a = [0, 1.17]  #mm, Err = 0.01mm \n",
    "R_a = [99.8, 8.80] #in kilo Ohms Err = 0.05 Kilo Ohms \n",
    "T_a = [24.89, 85.86] #Temperature in degrees C Err = 0.3 degrees C\n",
    "\n",
    "#Data tab for copper tube\n",
    "\n",
    "L_c = 70.3 #cm Err = 0.1 cm\n",
    "Ldial_c = [0, 0.82] #mm, Err = 0.01 mm\n",
    "R_c = [96.8 , 8.10] #in kilo Ohms, Err = 0.05 Kilo Ohms\n",
    "T_c = [25.55, 88.35] # Temperature in degrees C, Err = 0.3 degrees C\n",
    "\n"
   ]
  },
  {
   "cell_type": "code",
   "execution_count": 3,
   "metadata": {},
   "outputs": [
    {
     "name": "stdout",
     "output_type": "stream",
     "text": [
      "Coefficient for aluminum: 2.7181e-05 \n",
      "Coefficient for Copper 1.8574e-05\n",
      "\n",
      "Error for Aluminum: 2.7081e-07 \n",
      "Error for Copper: 2.447e-07\n"
     ]
    }
   ],
   "source": [
    "# changeinlength / (Li * ChangeT)\n",
    "\n",
    "Coefficient_a = (Ldial_a[1]) / (706.0 * (T_a[1] - T_a[0]))\n",
    "Coefficient_c = (Ldial_c[1]) / (703.0 * (T_c[1] - T_c[0]))\n",
    "\n",
    "print(\"Coefficient for aluminum:\", \"{:.5}\".format(Coefficient_a),\"\\nCoefficient for Copper\", \"{:.5}\".format(Coefficient_c))\n",
    "\n",
    "Err_a = Coefficient_a * np.sqrt((-1/706)**2 + (.01/1.17)**2 + (-0.3/ (T_a[1] - T_a[0]))**2)\n",
    "\n",
    "Err_b = Coefficient_c * np.sqrt((-1/703)**2 + (.01/0.82)**2 + (-0.3/ (T_c[1] - T_c[0]))**2)\n",
    "\n",
    "print(\"\\nError for Aluminum:\",\"{:.5}\".format(Err_a),\"\\nError for Copper:\", \"{:.5}\".format(Err_b))\n",
    "    "
   ]
  },
  {
   "cell_type": "code",
   "execution_count": null,
   "metadata": {},
   "outputs": [],
   "source": []
  }
 ],
 "metadata": {
  "kernelspec": {
   "display_name": "Python 3",
   "language": "python",
   "name": "python3"
  },
  "language_info": {
   "codemirror_mode": {
    "name": "ipython",
    "version": 3
   },
   "file_extension": ".py",
   "mimetype": "text/x-python",
   "name": "python",
   "nbconvert_exporter": "python",
   "pygments_lexer": "ipython3",
   "version": "3.8.5"
  }
 },
 "nbformat": 4,
 "nbformat_minor": 4
}
