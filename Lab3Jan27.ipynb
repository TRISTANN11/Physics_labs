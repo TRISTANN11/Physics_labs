{
 "cells": [
  {
   "cell_type": "code",
   "execution_count": 1,
   "metadata": {},
   "outputs": [],
   "source": [
    "import numpy as np"
   ]
  },
  {
   "cell_type": "code",
   "execution_count": 2,
   "metadata": {},
   "outputs": [],
   "source": [
    "#functions needed\n",
    "\n",
    "def Work(M,N,r):\n",
    "    return 2 * 3.14 * M * 9.81 * N * r\n",
    "\n",
    "def Q(m, c, t1, t2):\n",
    "    return m*c*(t1-t2)\n",
    "\n",
    "def J(M, N, r, m, c, t1, t2):\n",
    "    return Work(M,N,r) / Q(m,c,t1,t2)\n",
    "\n",
    "#error functions \n",
    "def rule1(c, erA):\n",
    "    ret = abs(c) * erA\n",
    "    return ret\n",
    "\n",
    "def rule2(c, m, A, erA):\n",
    "    ret = abs(c*m*A**(m-1)) * erA\n",
    "    return ret\n",
    "\n",
    "def rule3(erA, erB):\n",
    "    ret = np.sqrt(erA**2 + erB**2)\n",
    "    return ret\n",
    "    \n",
    "def rule4(m, n, A, B, erA, erB):\n",
    "    ret = np.sqrt((m*(erA/A))**2 + (n * (erB/B)**2))\n",
    "    return ret"
   ]
  },
  {
   "cell_type": "code",
   "execution_count": 11,
   "metadata": {},
   "outputs": [
    {
     "name": "stdout",
     "output_type": "stream",
     "text": [
      "Prediction:\n",
      "4.46815\n",
      "\n",
      "Error in Q:\n",
      "13.48902\n",
      "\n",
      "Error in work:\n",
      "6.63539\n",
      "\n",
      "Error in prediction:\n",
      "0.01909\n",
      "0.3811599410032785\n",
      "\n",
      "Upperbound:\n",
      "4.55346\n",
      "\n",
      "Lowerbound:\n",
      "4.38284\n"
     ]
    }
   ],
   "source": [
    "#data\n",
    "Troom = 21 #degrees celcius\n",
    "Tstart = 12.63 #degrees celcius .3\n",
    "Tfinal = 29 \n",
    "tempchange = 29-12.63\n",
    "\n",
    "Rstart = 180.6 #kilo o \n",
    "Rfinish = 82.5 #kilo o\n",
    "\n",
    "m = .2029 #kilograms. Uncertainty = .0001 kg\n",
    "M = 6.355 #kilograms error = .001 kg \n",
    "r = 0.024 #m error = .00005 m\n",
    "\n",
    "\n",
    "N = 338 #uncertainty = +- 10 turns 348\n",
    "c = 214 #cal/kg degree celcius \n",
    "W = Work(M,N,r)\n",
    "Q1 = Q(m, c, Tfinal, Tstart)\n",
    "\n",
    "prediction = W/Q1\n",
    "\n",
    "print(\"Prediction:\")\n",
    "print('{:.5f}'.format(prediction))\n",
    "\n",
    "\n",
    "errorQ = rule4(1,1, m, tempchange, 0.001, 0.3) * Q1\n",
    "errorW = rule4(1,1, M, r, 0.001, 0.00005) * W\n",
    "print(\"\\nError in Q:\")\n",
    "print('{:.5f}'.format(errorQ))\n",
    "print(\"\\nError in work:\")\n",
    "print('{:.5f}'.format(errorW))\n",
    "\n",
    "\n",
    "errpred = rule4(1,1, Q1, W, errorQ, errorW) \n",
    "print(\"\\nError in prediction:\")\n",
    "print('{:.5f}'.format(errpred))\n",
    "\n",
    "prdplus = prediction + (prediction * errpred)\n",
    "prdminus = prediction - (prediction * errpred)\n",
    "\n",
    "print(\"\\nUpperbound:\")\n",
    "print('{:.5f}'.format(prdplus))\n",
    "print(\"\\nLowerbound:\")\n",
    "print('{:.5f}'.format(prdminus))\n"
   ]
  },
  {
   "cell_type": "code",
   "execution_count": null,
   "metadata": {},
   "outputs": [],
   "source": [
    "#Our value didn't match the accepted value\n",
    "# my lower bound is stiill above the accepted value, even with taking N into the minimum in our error bars. \n",
    "#If we had used steel,  we would have used much less energy than with aluminum. \n",
    "#C in steel == 120/kal/C, while aluminum is 214cal/C, so if we keep everything else the same and plug in a lower value \n",
    "#our answer will be lower. "
   ]
  }
 ],
 "metadata": {
  "kernelspec": {
   "display_name": "Python 3",
   "language": "python",
   "name": "python3"
  },
  "language_info": {
   "codemirror_mode": {
    "name": "ipython",
    "version": 3
   },
   "file_extension": ".py",
   "mimetype": "text/x-python",
   "name": "python",
   "nbconvert_exporter": "python",
   "pygments_lexer": "ipython3",
   "version": "3.8.5"
  }
 },
 "nbformat": 4,
 "nbformat_minor": 4
}
